{
 "cells": [
  {
   "cell_type": "code",
   "execution_count": 13,
   "metadata": {},
   "outputs": [],
   "source": [
    "import numpy as np\n",
    "import matplotlib.pyplot as plt\n",
    "import seaborn as sns\n",
    "import imageio\n",
    "\n",
    "import glob\n",
    "\n",
    "sns.set(palette='colorblind')"
   ]
  },
  {
   "cell_type": "markdown",
   "metadata": {},
   "source": []
  },
  {
   "cell_type": "code",
   "execution_count": 19,
   "metadata": {},
   "outputs": [
    {
     "name": "stdout",
     "output_type": "stream",
     "text": [
      "(2160, 3840, 4)\n"
     ]
    }
   ],
   "source": [
    "ims = np.empty((2160,3840,4))\n",
    "print(ims.shape)\n",
    "for image_path in glob.glob(\"..\\\\Data\\\\Time_slices_no_green\\\\*.png\"):\n",
    "    im = imageio.imread(image_path)\n",
    "    ims = np.append(ims,im, axis = 1)"
   ]
  },
  {
   "cell_type": "code",
   "execution_count": 16,
   "metadata": {},
   "outputs": [
    {
     "data": {
      "text/plain": [
       "(663552000,)"
      ]
     },
     "execution_count": 16,
     "metadata": {},
     "output_type": "execute_result"
    }
   ],
   "source": [
    "ims = np.empty((2160,3840,4,0))\n",
    "print(ims.shape)\n",
    "for image_path in glob.glob(\"..\\\\Data\\\\Time_slices_no_green\\\\*.png\"):\n",
    "    im = imageio.imread(image_path)\n",
    "    ims = np.append(ims,im, axis=)"
   ]
  },
  {
   "cell_type": "code",
   "execution_count": null,
   "metadata": {},
   "outputs": [],
   "source": []
  }
 ],
 "metadata": {
  "kernelspec": {
   "display_name": "Python 3",
   "language": "python",
   "name": "python3"
  },
  "language_info": {
   "codemirror_mode": {
    "name": "ipython",
    "version": 3
   },
   "file_extension": ".py",
   "mimetype": "text/x-python",
   "name": "python",
   "nbconvert_exporter": "python",
   "pygments_lexer": "ipython3",
   "version": "3.6.5"
  }
 },
 "nbformat": 4,
 "nbformat_minor": 2
}
